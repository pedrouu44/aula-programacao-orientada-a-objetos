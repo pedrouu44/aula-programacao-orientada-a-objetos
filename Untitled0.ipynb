{
  "nbformat": 4,
  "nbformat_minor": 0,
  "metadata": {
    "colab": {
      "provenance": []
    },
    "kernelspec": {
      "name": "python3",
      "display_name": "Python 3"
    },
    "language_info": {
      "name": "python"
    }
  },
  "cells": [
    {
      "cell_type": "code",
      "execution_count": 1,
      "metadata": {
        "colab": {
          "base_uri": "https://localhost:8080/"
        },
        "id": "rBdzTf9gFYtC",
        "outputId": "dc6303f9-980e-4669-b0c0-921077ae84ac"
      },
      "outputs": [
        {
          "output_type": "stream",
          "name": "stdout",
          "text": [
            "Insire a temperatura em fahrenheit:67\n",
            "A temperatura em celsius é 19.44\n"
          ]
        }
      ],
      "source": [
        "fahrenheit = float(input('Insire a temperatura em fahrenheit:'))\n",
        "celsius = (5/9) * (fahrenheit - 32)\n",
        "print(f'A temperatura em celsius é {celsius:.2f}')"
      ]
    }
  ]
}